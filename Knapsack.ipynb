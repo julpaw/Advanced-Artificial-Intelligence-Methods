{
  "cells": [
    {
      "cell_type": "markdown",
      "metadata": {},
      "source": [
        "Julia Pawluś, Kamil Sarzyniak, Piotr Stawarski"
      ]
    },
    {
      "cell_type": "code",
      "execution_count": 2,
      "metadata": {
        "id": "LMjMzh9tDzvn"
      },
      "outputs": [],
      "source": [
        "def knapsack(weights, values, capacity):\n",
        "    n = len(values)\n",
        "    dp = [[0 for _ in range(capacity + 1)] for _ in range(n + 1)]\n",
        "\n",
        "    # Wypełnianie tablicy DP\n",
        "    for i in range(1, n + 1):\n",
        "        for w in range(capacity + 1):\n",
        "            if weights[i - 1] <= w:\n",
        "                dp[i][w] = max(dp[i - 1][w], dp[i - 1][w - weights[i - 1]] + values[i - 1])\n",
        "            else:\n",
        "                dp[i][w] = dp[i - 1][w]\n",
        "\n",
        "    # Odtwarzanie wybranych przedmiotów\n",
        "    w = capacity\n",
        "    selected_items = []\n",
        "    for i in range(n, 0, -1):\n",
        "        if dp[i][w] != dp[i - 1][w]:\n",
        "            selected_items.append(i - 1)  # dodajemy indeks przedmiotu\n",
        "            w -= weights[i - 1]\n",
        "\n",
        "    selected_items.reverse()  # zachowanie oryginalnej kolejności\n",
        "    return dp[n][capacity], selected_items"
      ]
    },
    {
      "cell_type": "code",
      "execution_count": 3,
      "metadata": {
        "id": "P0VT___ZFfbR"
      },
      "outputs": [],
      "source": [
        "import pandas as pd\n",
        "\n",
        "data = pd.read_csv('knapsack_5_items.csv')\n",
        "\n",
        "weights = data['Weights'].apply(lambda x: [int(i) for i in x.strip('[]').split()]).tolist()\n",
        "values = data['Prices'].apply(lambda x: [int(i) for i in x.strip('[]').split()]).tolist()\n",
        "capacity = data['Capacity'].tolist()\n"
      ]
    },
    {
      "cell_type": "code",
      "execution_count": 4,
      "metadata": {
        "id": "AMKXWaJ6Gahn"
      },
      "outputs": [],
      "source": [
        "best_values = []\n",
        "selected_items = []\n",
        "\n",
        "for c in range(len(capacity)):\n",
        "    best_values.append(0)\n",
        "    selected_items.append([])\n",
        "    best_values[c], selected_items[c] = knapsack(weights[c], values[c], capacity[c])\n"
      ]
    },
    {
      "cell_type": "code",
      "execution_count": 5,
      "metadata": {},
      "outputs": [
        {
          "name": "stdout",
          "output_type": "stream",
          "text": [
            "   Nr                  Wagi             Wartości  Pojemność  \\\n",
            "0   1  [46, 40, 42, 38, 10]  [12, 19, 19, 15, 8]         40   \n",
            "1   2     [11, 31, 4, 6, 7]    [2, 8, 18, 16, 3]         64   \n",
            "2   3  [32, 49, 27, 37, 24]   [19, 16, 16, 4, 1]         87   \n",
            "3   4  [20, 35, 22, 23, 16]   [19, 17, 19, 9, 1]         21   \n",
            "4   5   [7, 12, 19, 13, 20]  [10, 11, 18, 15, 5]         50   \n",
            "5   6   [27, 10, 25, 25, 7]   [13, 19, 7, 16, 3]         66   \n",
            "6   7   [21, 2, 33, 45, 26]   [1, 14, 10, 6, 13]         80   \n",
            "7   8  [37, 27, 39, 14, 25]   [18, 7, 15, 4, 13]         35   \n",
            "8   9    [1, 48, 4, 23, 39]   [9, 4, 10, 16, 12]         51   \n",
            "9  10     [4, 3, 22, 9, 32]    [14, 6, 3, 17, 8]         53   \n",
            "\n",
            "   Wartość algorytmu  Best price Wybrane przedmioty Zgodność  \n",
            "0                 19        19.0                [1]      Tak  \n",
            "1                 47        47.0    [0, 1, 2, 3, 4]      Tak  \n",
            "2                 36        36.0          [0, 2, 4]      Tak  \n",
            "3                 19        19.0                [0]      Tak  \n",
            "4                 44        44.0          [1, 2, 3]      Tak  \n",
            "5                 48        48.0          [0, 1, 3]      Tak  \n",
            "6                 37        37.0          [1, 2, 4]      Tak  \n",
            "7                 13        13.0                [4]      Tak  \n",
            "8                 35        35.0          [0, 2, 3]      Tak  \n",
            "9                 45        45.0       [0, 1, 3, 4]      Tak  \n"
          ]
        }
      ],
      "source": [
        "# tabela \n",
        "tabela = []\n",
        "\n",
        "for i in range(10):  \n",
        "    wagi = weights[i]\n",
        "    wartosci = values[i]\n",
        "    poj = capacity[i]\n",
        "    wart_alg = best_values[i]\n",
        "    wart_best = data['Best price'][i]\n",
        "    wybrane = selected_items[i]\n",
        "    zgodnosc = \"Tak\" if wart_alg == wart_best else \"Nie\"\n",
        "\n",
        "    tabela.append({\n",
        "        'Nr': i + 1,\n",
        "        'Wagi': wagi,\n",
        "        'Wartości': wartosci,\n",
        "        'Pojemność': poj,\n",
        "        'Wartość algorytmu': wart_alg,\n",
        "        'Best price': wart_best,\n",
        "        'Wybrane przedmioty': wybrane,\n",
        "        'Zgodność': zgodnosc\n",
        "    })\n",
        "\n",
        "\n",
        "tabela_df = pd.DataFrame(tabela)\n",
        "print(tabela_df)\n"
      ]
    },
    {
      "cell_type": "code",
      "execution_count": 6,
      "metadata": {
        "colab": {
          "base_uri": "https://localhost:8080/",
          "height": 545
        },
        "id": "lWEnxMQOI1E2",
        "outputId": "2e302dcf-74b7-41c6-d8b6-799539e80138"
      },
      "outputs": [
        {
          "data": {
            "image/png": "[encoded data removed]",
            "text/plain": [
              "<Figure size 1000x600 with 1 Axes>"
            ]
          },
          "metadata": {},
          "output_type": "display_data"
        }
      ],
      "source": [
        "import matplotlib.pyplot as plt\n",
        "\n",
        "differences = [best_values[i] - data['Best price'][i] for i in range(len(best_values))]\n",
        "\n",
        "plt.figure(figsize=(10, 6))\n",
        "plt.plot(range(len(differences)), differences, marker='o', linestyle='-')\n",
        "plt.axhline(y=0, color='r', linestyle='--')\n",
        "plt.title('Różnice między najlepszą wyliczoną i najlepszą faktyczną wartością')\n",
        "plt.grid(True)\n",
        "plt.show()\n"
      ]
    },
    {
      "cell_type": "markdown",
      "metadata": {},
      "source": [
        "Genetic Algorithm for Knapsack"
      ]
    },
    {
      "cell_type": "code",
      "execution_count": null,
      "metadata": {},
      "outputs": [
        {
          "name": "stdout",
          "output_type": "stream",
          "text": [
            "   Nr                  Wagi             Wartości  Pojemność  Wartość GA  \\\n",
            "0   1  [46, 40, 42, 38, 10]  [12, 19, 19, 15, 8]         40          19   \n",
            "1   2     [11, 31, 4, 6, 7]    [2, 8, 18, 16, 3]         64          47   \n",
            "2   3  [32, 49, 27, 37, 24]   [19, 16, 16, 4, 1]         87          36   \n",
            "3   4  [20, 35, 22, 23, 16]   [19, 17, 19, 9, 1]         21          19   \n",
            "4   5   [7, 12, 19, 13, 20]  [10, 11, 18, 15, 5]         50          44   \n",
            "5   6   [27, 10, 25, 25, 7]   [13, 19, 7, 16, 3]         66          48   \n",
            "6   7   [21, 2, 33, 45, 26]   [1, 14, 10, 6, 13]         80          37   \n",
            "7   8  [37, 27, 39, 14, 25]   [18, 7, 15, 4, 13]         35          13   \n",
            "8   9    [1, 48, 4, 23, 39]   [9, 4, 10, 16, 12]         51          35   \n",
            "9  10     [4, 3, 22, 9, 32]    [14, 6, 3, 17, 8]         53          45   \n",
            "\n",
            "   Best price Wybrane przedmioty Zgodność  \n",
            "0        19.0                [1]      Tak  \n",
            "1        47.0    [0, 1, 2, 3, 4]      Tak  \n",
            "2        36.0          [0, 2, 4]      Tak  \n",
            "3        19.0                [0]      Tak  \n",
            "4        44.0          [1, 2, 3]      Tak  \n",
            "5        48.0          [0, 1, 3]      Tak  \n",
            "6        37.0          [1, 2, 4]      Tak  \n",
            "7        13.0                [4]      Tak  \n",
            "8        35.0          [0, 2, 3]      Tak  \n",
            "9        45.0       [0, 1, 3, 4]      Tak  \n"
          ]
        },
        {
          "data": {
            "image/png": "[encoded data removed]",
            "text/plain": [
              "<Figure size 1000x600 with 1 Axes>"
            ]
          },
          "metadata": {},
          "output_type": "display_data"
        }
      ],
      "source": [
        "import random\n",
        "\n",
        "def knapsack_ga(weights, values, capacity, population_size=50, generations=100, mutation_rate=0.05):\n",
        "    n = len(weights)\n",
        "    population = [ [random.randint(0,1) for _ in range(n)] for _ in range(population_size) ]\n",
        "    \n",
        "    def fitness(individual):\n",
        "        total_weight = sum(individual[i] * weights[i] for i in range(n))\n",
        "        total_value = sum(individual[i] * values[i] for i in range(n))\n",
        "        if total_weight > capacity:\n",
        "            return 0\n",
        "        else:\n",
        "            return total_value\n",
        "\n",
        "    def selection(population):\n",
        "        k = 3\n",
        "        selected = random.sample(population, k)\n",
        "        selected.sort(key=lambda ind: fitness(ind), reverse=True)\n",
        "        return selected[0]\n",
        "\n",
        "    def crossover(parent1, parent2):\n",
        "        point = random.randint(1, n-1)\n",
        "        child1 = parent1[:point] + parent2[point:]\n",
        "        child2 = parent2[:point] + parent1[point:]\n",
        "        return child1, child2\n",
        "\n",
        "    def mutate(individual):\n",
        "        for i in range(n):\n",
        "            if random.random() < mutation_rate:\n",
        "                individual[i] = 1 - individual[i]\n",
        "        return individual\n",
        "\n",
        "    best_individual = None\n",
        "    best_fitness = 0\n",
        "\n",
        "    for gen in range(generations):\n",
        "        new_population = []\n",
        "        for _ in range(population_size // 2):\n",
        "            parent1 = selection(population)\n",
        "            parent2 = selection(population)\n",
        "            child1, child2 = crossover(parent1, parent2)\n",
        "            new_population.append(mutate(child1))\n",
        "            new_population.append(mutate(child2))\n",
        "        population = new_population\n",
        "\n",
        "        for individual in population:\n",
        "            fit = fitness(individual)\n",
        "            if fit > best_fitness:\n",
        "                best_fitness = fit\n",
        "                best_individual = individual\n",
        "\n",
        "    if best_individual is None:\n",
        "        best_individual = [0]*n\n",
        "        best_fitness = 0\n",
        "\n",
        "    selected_items = [i for i in range(n) if best_individual[i] == 1]\n",
        "    return best_fitness, selected_items\n",
        "\n",
        "\n",
        "# ------------------------------------------------------\n",
        "# Data reading (as you have)\n",
        "data = pd.read_csv('knapsack_5_items.csv')\n",
        "\n",
        "weights = data['Weights'].apply(lambda x: [int(i) for i in x.strip('[]').split()]).tolist()\n",
        "values = data['Prices'].apply(lambda x: [int(i) for i in x.strip('[]').split()]).tolist()\n",
        "capacity = data['Capacity'].tolist()\n",
        "\n",
        "# Solve using Genetic Algorithm\n",
        "best_values_ga = []\n",
        "selected_items_ga = []\n",
        "\n",
        "for c in range(len(capacity)):\n",
        "    best_val, selected = knapsack_ga(weights[c], values[c], capacity[c])\n",
        "    best_values_ga.append(best_val)\n",
        "    selected_items_ga.append(selected)\n",
        "\n",
        "# Make table\n",
        "tabela_ga = []\n",
        "\n",
        "for i in range(10):\n",
        "    wagi = weights[i]\n",
        "    wartosci = values[i]\n",
        "    poj = capacity[i]\n",
        "    wart_alg = best_values_ga[i]\n",
        "    wart_best = data['Best price'][i]\n",
        "    wybrane = selected_items_ga[i]\n",
        "    zgodnosc = \"Tak\" if wart_alg == wart_best else \"Nie\"\n",
        "\n",
        "    tabela_ga.append({\n",
        "        'Nr': i + 1,\n",
        "        'Wagi': wagi,\n",
        "        'Wartości': wartosci,\n",
        "        'Pojemność': poj,\n",
        "        'Wartość GA': wart_alg,\n",
        "        'Best price': wart_best,\n",
        "        'Wybrane przedmioty': wybrane,\n",
        "        'Zgodność': zgodnosc\n",
        "    })\n",
        "\n",
        "tabela_ga_df = pd.DataFrame(tabela_ga)\n",
        "print(tabela_ga_df)\n",
        "\n",
        "# Plot differences\n",
        "differences_ga = [best_values_ga[i] - data['Best price'][i] for i in range(len(best_values_ga))]\n",
        "\n",
        "plt.figure(figsize=(10, 6))\n",
        "plt.plot(range(len(differences_ga)), differences_ga, marker='o', linestyle='-', label='GA differences')\n",
        "plt.axhline(y=0, color='r', linestyle='--')\n",
        "plt.title('Różnice między wartością GA i najlepszą faktyczną wartością')\n",
        "plt.grid(True)\n",
        "plt.legend()\n",
        "plt.show()\n"
      ]
    },
    {
      "cell_type": "code",
      "execution_count": 75,
      "metadata": {},
      "outputs": [],
      "source": [
        "import random\n",
        "\n",
        "def fitness(individual, weights, values, capacity):\n",
        "    total_weight = sum(individual[i] * weights[i] for i in range(len(weights)))\n",
        "    total_value = sum(individual[i] * values[i] for i in range(len(values)))\n",
        "    if total_weight > capacity:\n",
        "        return 0\n",
        "    else:\n",
        "        return total_value\n",
        "    "
      ]
    },
    {
      "cell_type": "code",
      "execution_count": 76,
      "metadata": {},
      "outputs": [],
      "source": [
        "def selection(population, weights, values, capacity):\n",
        "    k = 3\n",
        "    selected = random.sample(population, k)\n",
        "    selected.sort(key=lambda ind: fitness(ind, weights, values, capacity), reverse=True)\n",
        "    return selected[0]\n"
      ]
    },
    {
      "cell_type": "code",
      "execution_count": 77,
      "metadata": {},
      "outputs": [],
      "source": [
        "def crossover(parent1, parent2):\n",
        "    point = random.randint(1, len(parent1)-1)\n",
        "    child1 = parent1[:point] + parent2[point:]\n",
        "    child2 = parent2[:point] + parent1[point:]\n",
        "    return child1, child2\n"
      ]
    },
    {
      "cell_type": "code",
      "execution_count": 78,
      "metadata": {},
      "outputs": [],
      "source": [
        "def mutate(individual, mutation_rate=0.05):\n",
        "    n = len(individual)\n",
        "    for i in range(n):\n",
        "        if random.random() < mutation_rate:\n",
        "            individual[i] = 1 - individual[i]\n",
        "    return individual\n"
      ]
    },
    {
      "cell_type": "code",
      "execution_count": 79,
      "metadata": {},
      "outputs": [],
      "source": [
        "def knapsack_ga(weights, values, capacity, population_size=50, generations=100, mutation_rate=0.05):\n",
        "    n = len(weights)\n",
        "    population = [[random.randint(0,1) for _ in range(n)] for _ in range(population_size)]\n",
        "\n",
        "    best_individual = None\n",
        "    best_fitness = 0\n",
        "\n",
        "    for gen in range(generations):\n",
        "        new_population = []\n",
        "        for _ in range(population_size // 2):\n",
        "            parent1 = selection(population, weights, values, capacity)\n",
        "            parent2 = selection(population, weights, values, capacity)\n",
        "            child1, child2 = crossover(parent1, parent2)\n",
        "            new_population.append(mutate(child1, mutation_rate))\n",
        "            new_population.append(mutate(child2, mutation_rate))\n",
        "        population = new_population\n",
        "\n",
        "        for individual in population:\n",
        "            fit = fitness(individual, weights, values, capacity)\n",
        "            if fit > best_fitness:\n",
        "                best_fitness = fit\n",
        "                best_individual = individual\n",
        "\n",
        "    if best_individual is None:\n",
        "        best_individual = [0]*n\n",
        "        best_fitness = 0\n",
        "\n",
        "    selected_items = [i for i in range(n) if best_individual[i] == 1]\n",
        "    return best_fitness, selected_items"
      ]
    },
    {
      "cell_type": "code",
      "execution_count": 80,
      "metadata": {},
      "outputs": [],
      "source": [
        "data = pd.read_csv('knapsack_5_items.csv')\n",
        "\n",
        "weights = data['Weights'].apply(lambda x: [int(i) for i in x.strip('[]').split()]).tolist()\n",
        "values = data['Prices'].apply(lambda x: [int(i) for i in x.strip('[]').split()]).tolist()\n",
        "capacity = data['Capacity'].tolist()\n"
      ]
    },
    {
      "cell_type": "code",
      "execution_count": 81,
      "metadata": {},
      "outputs": [],
      "source": [
        "best_values_ga = []\n",
        "selected_items_ga = []\n",
        "\n",
        "for c in range(len(capacity)):\n",
        "    best_val, selected = knapsack_ga(weights[c], values[c], capacity[c])\n",
        "    best_values_ga.append(best_val)\n",
        "    selected_items_ga.append(selected)\n"
      ]
    },
    {
      "cell_type": "code",
      "execution_count": 82,
      "metadata": {},
      "outputs": [
        {
          "name": "stdout",
          "output_type": "stream",
          "text": [
            "   Nr                  Wagi             Wartości  Pojemność  Wartość GA  \\\n",
            "0   1  [46, 40, 42, 38, 10]  [12, 19, 19, 15, 8]         40          19   \n",
            "1   2     [11, 31, 4, 6, 7]    [2, 8, 18, 16, 3]         64          47   \n",
            "2   3  [32, 49, 27, 37, 24]   [19, 16, 16, 4, 1]         87          36   \n",
            "3   4  [20, 35, 22, 23, 16]   [19, 17, 19, 9, 1]         21          19   \n",
            "4   5   [7, 12, 19, 13, 20]  [10, 11, 18, 15, 5]         50          44   \n",
            "5   6   [27, 10, 25, 25, 7]   [13, 19, 7, 16, 3]         66          48   \n",
            "6   7   [21, 2, 33, 45, 26]   [1, 14, 10, 6, 13]         80          37   \n",
            "7   8  [37, 27, 39, 14, 25]   [18, 7, 15, 4, 13]         35          13   \n",
            "8   9    [1, 48, 4, 23, 39]   [9, 4, 10, 16, 12]         51          35   \n",
            "9  10     [4, 3, 22, 9, 32]    [14, 6, 3, 17, 8]         53          45   \n",
            "\n",
            "   Best price Wybrane przedmioty Zgodność  \n",
            "0        19.0                [1]      Tak  \n",
            "1        47.0    [0, 1, 2, 3, 4]      Tak  \n",
            "2        36.0          [0, 2, 4]      Tak  \n",
            "3        19.0                [0]      Tak  \n",
            "4        44.0          [1, 2, 3]      Tak  \n",
            "5        48.0          [0, 1, 3]      Tak  \n",
            "6        37.0          [1, 2, 4]      Tak  \n",
            "7        13.0                [4]      Tak  \n",
            "8        35.0          [0, 2, 3]      Tak  \n",
            "9        45.0       [0, 1, 3, 4]      Tak  \n"
          ]
        }
      ],
      "source": [
        "tabela_ga = []\n",
        "\n",
        "for i in range(10):\n",
        "    wagi = weights[i]\n",
        "    wartosci = values[i]\n",
        "    poj = capacity[i]\n",
        "    wart_alg = best_values_ga[i]\n",
        "    wart_best = data['Best price'][i]\n",
        "    wybrane = selected_items_ga[i]\n",
        "    zgodnosc = \"Tak\" if wart_alg == wart_best else \"Nie\"\n",
        "\n",
        "    tabela_ga.append({\n",
        "        'Nr': i + 1,\n",
        "        'Wagi': wagi,\n",
        "        'Wartości': wartosci,\n",
        "        'Pojemność': poj,\n",
        "        'Wartość GA': wart_alg,\n",
        "        'Best price': wart_best,\n",
        "        'Wybrane przedmioty': wybrane,\n",
        "        'Zgodność': zgodnosc\n",
        "    })\n",
        "\n",
        "tabela_ga_df = pd.DataFrame(tabela_ga)\n",
        "print(tabela_ga_df)\n"
      ]
    },
    {
      "cell_type": "code",
      "execution_count": 83,
      "metadata": {},
      "outputs": [
        {
          "data": {
            "image/png": "[encoded data removed]",
            "text/plain": [
              "<Figure size 1000x600 with 1 Axes>"
            ]
          },
          "metadata": {},
          "output_type": "display_data"
        }
      ],
      "source": [
        "\n",
        "differences_ga = [best_values_ga[i] - data['Best price'][i] for i in range(len(best_values_ga))]\n",
        "\n",
        "plt.figure(figsize=(10, 6))\n",
        "plt.plot(range(len(differences_ga)), differences_ga, marker='o', linestyle='-', label='GA differences')\n",
        "plt.axhline(y=0, color='r', linestyle='--')\n",
        "plt.title('Różnice między najlepszą wyliczoną i najlepszą faktyczną wartością')\n",
        "plt.grid(True)\n",
        "plt.legend()\n",
        "plt.show()\n"
      ]
    }
  ],
  "metadata": {
    "colab": {
      "provenance": []
    },
    "kernelspec": {
      "display_name": "AI_DL_ML",
      "language": "python",
      "name": "python3"
    },
    "language_info": {
      "codemirror_mode": {
        "name": "ipython",
        "version": 3
      },
      "file_extension": ".py",
      "mimetype": "text/x-python",
      "name": "python",
      "nbconvert_exporter": "python",
      "pygments_lexer": "ipython3",
      "version": "3.10.16"
    }
  },
  "nbformat": 4,
  "nbformat_minor": 0
}
